{
 "cells": [
  {
   "cell_type": "code",
   "execution_count": 1,
   "metadata": {},
   "outputs": [],
   "source": [
    "import plotly.express as px\n",
    "import plotly.graph_objects as go\n",
    "import numpy as np\n",
    "import pandas as pd\n",
    "import seaborn as sns\n",
    "import matplotlib.pyplot as plt\n",
    "from dash import Dash, html, dash_table, dcc, Output, Input\n",
    "import dash_bootstrap_components as dbc\n"
   ]
  },
  {
   "cell_type": "markdown",
   "metadata": {},
   "source": [
    "# Importing and cleaning data"
   ]
  },
  {
   "cell_type": "code",
   "execution_count": 2,
   "metadata": {},
   "outputs": [
    {
     "data": {
      "text/plain": [
       "(34936, 36)"
      ]
     },
     "execution_count": 2,
     "metadata": {},
     "output_type": "execute_result"
    }
   ],
   "source": [
    "power_df = pd.read_csv(\"global_power_plant_database.csv\", encoding='utf-8', dtype={'other_fuel3': str})\n",
    "countries_df = pd.read_csv(\"list-of-countries-by-continent-2024.csv\", encoding='utf-8', dtype={'country': str, 'continent': str})\n",
    "power_df.shape"
   ]
  },
  {
   "cell_type": "markdown",
   "metadata": {},
   "source": [
    "\n",
    "Update country names in power_df:\n",
    "| Old Name                           | New Name                |\n",
    "|------------------------------------|-------------------------|\n",
    "| Swaziland                          | Eswatini                |\n",
    "| Brunei Darussalam                  | Brunei                  |\n",
    "| Congo                              | Republic of the Congo   |\n",
    "| Cote D'Ivoire                      | Ivory Coast             |\n",
    "| Democratic Republic of the Congo   | DR Congo                |\n",
    "| Macedonia                          | North Macedonia         |\n",
    "| Syrian Arab Republic               | Syria                   |\n",
    "| Antarctica                         | New Zealand             |\n",
    "\n",
    "Add records to country-continent CSV file for:\n",
    "- United States of America (previously 'United States')\n",
    "- Kosovo (missing)"
   ]
  },
  {
   "cell_type": "code",
   "execution_count": 3,
   "metadata": {},
   "outputs": [],
   "source": [
    "replacement_dict={\n",
    "    'Swaziland': 'Eswatini',\n",
    "    'Brunei Darussalam': 'Brunei',\n",
    "    'Congo': 'Republic of the Congo',\n",
    "    'Cote DIvoire': 'Ivory Coast',\n",
    "    'Democratic Republic of the Congo': 'DR Congo',\n",
    "    'Macedonia': 'North Macedonia',\n",
    "    'Syrian Arab Republic': 'Syria',\n",
    "    'Antarctica': 'New Zealand'\n",
    "}\n",
    "\n",
    "power_df['country_long'] = power_df['country_long'].replace(replacement_dict)"
   ]
  },
  {
   "cell_type": "code",
   "execution_count": 4,
   "metadata": {},
   "outputs": [],
   "source": [
    "# Uncomment if first time running notebook\n",
    "# additional_countries = pd.DataFrame({\"country\": [\"United States of America\", \"Kosovo\"],\n",
    "#                                     \"continent\": [\"North America\", \"Europe\"],\n",
    "#                                     \"unMember\": [\"true\", \"false\"]})\n",
    "\n",
    "# with open(\"list-of-countries-by-continent-2024.csv\", 'a') as f:\n",
    "#     additional_countries.to_csv(f, header=False, index=False)"
   ]
  },
  {
   "cell_type": "code",
   "execution_count": 5,
   "metadata": {},
   "outputs": [],
   "source": [
    "power_df = power_df.merge(countries_df, how='left', left_on='country_long', right_on='country', suffixes=('_short', ''))"
   ]
  },
  {
   "cell_type": "code",
   "execution_count": 6,
   "metadata": {},
   "outputs": [
    {
     "data": {
      "text/plain": [
       "(34936, 39)"
      ]
     },
     "execution_count": 6,
     "metadata": {},
     "output_type": "execute_result"
    }
   ],
   "source": [
    "power_df.shape  # No duplicates compared to first import as rows are the same, with 3 columns added from country-continent dataframe"
   ]
  },
  {
   "cell_type": "code",
   "execution_count": 7,
   "metadata": {},
   "outputs": [
    {
     "data": {
      "text/plain": [
       "country_short                     0.000000\n",
       "country_long                      0.000000\n",
       "name                              0.000000\n",
       "gppd_idnr                         0.000000\n",
       "capacity_mw                       0.000000\n",
       "latitude                          0.000000\n",
       "longitude                         0.000000\n",
       "primary_fuel                      0.000000\n",
       "other_fuel1                       0.944355\n",
       "other_fuel2                       0.992100\n",
       "other_fuel3                       0.997367\n",
       "commissioning_year                0.500601\n",
       "owner                             0.402679\n",
       "source                            0.000429\n",
       "url                               0.000515\n",
       "geolocation_source                0.011993\n",
       "wepp_id                           0.535322\n",
       "year_of_capacity_data             0.573878\n",
       "generation_gwh_2013               0.816321\n",
       "generation_gwh_2014               0.793165\n",
       "generation_gwh_2015               0.765199\n",
       "generation_gwh_2016               0.738264\n",
       "generation_gwh_2017               0.728074\n",
       "generation_gwh_2018               0.724153\n",
       "generation_gwh_2019               0.723523\n",
       "generation_data_source            0.673689\n",
       "estimated_generation_gwh_2013     0.538585\n",
       "estimated_generation_gwh_2014     0.527622\n",
       "estimated_generation_gwh_2015     0.511965\n",
       "estimated_generation_gwh_2016     0.497080\n",
       "estimated_generation_gwh_2017     0.051466\n",
       "estimated_generation_note_2013    0.000000\n",
       "estimated_generation_note_2014    0.000000\n",
       "estimated_generation_note_2015    0.000000\n",
       "estimated_generation_note_2016    0.000000\n",
       "estimated_generation_note_2017    0.000000\n",
       "country                           0.000000\n",
       "continent                         0.000000\n",
       "unMember                          0.000000\n",
       "dtype: float64"
      ]
     },
     "execution_count": 7,
     "metadata": {},
     "output_type": "execute_result"
    }
   ],
   "source": [
    "normalised_missing_values = power_df.isna().sum()/power_df.shape[0]\n",
    "normalised_missing_values"
   ]
  },
  {
   "cell_type": "code",
   "execution_count": 8,
   "metadata": {},
   "outputs": [
    {
     "data": {
      "text/html": [
       "<div>\n",
       "<style scoped>\n",
       "    .dataframe tbody tr th:only-of-type {\n",
       "        vertical-align: middle;\n",
       "    }\n",
       "\n",
       "    .dataframe tbody tr th {\n",
       "        vertical-align: top;\n",
       "    }\n",
       "\n",
       "    .dataframe thead th {\n",
       "        text-align: right;\n",
       "    }\n",
       "</style>\n",
       "<table border=\"1\" class=\"dataframe\">\n",
       "  <thead>\n",
       "    <tr style=\"text-align: right;\">\n",
       "      <th></th>\n",
       "      <th>country_short</th>\n",
       "      <th>country_long</th>\n",
       "      <th>name</th>\n",
       "      <th>gppd_idnr</th>\n",
       "      <th>capacity_mw</th>\n",
       "      <th>latitude</th>\n",
       "      <th>longitude</th>\n",
       "      <th>primary_fuel</th>\n",
       "      <th>other_fuel1</th>\n",
       "      <th>other_fuel2</th>\n",
       "      <th>...</th>\n",
       "      <th>estimated_generation_gwh_2016</th>\n",
       "      <th>estimated_generation_gwh_2017</th>\n",
       "      <th>estimated_generation_note_2013</th>\n",
       "      <th>estimated_generation_note_2014</th>\n",
       "      <th>estimated_generation_note_2015</th>\n",
       "      <th>estimated_generation_note_2016</th>\n",
       "      <th>estimated_generation_note_2017</th>\n",
       "      <th>country</th>\n",
       "      <th>continent</th>\n",
       "      <th>unMember</th>\n",
       "    </tr>\n",
       "  </thead>\n",
       "  <tbody>\n",
       "  </tbody>\n",
       "</table>\n",
       "<p>0 rows × 39 columns</p>\n",
       "</div>"
      ],
      "text/plain": [
       "Empty DataFrame\n",
       "Columns: [country_short, country_long, name, gppd_idnr, capacity_mw, latitude, longitude, primary_fuel, other_fuel1, other_fuel2, other_fuel3, commissioning_year, owner, source, url, geolocation_source, wepp_id, year_of_capacity_data, generation_gwh_2013, generation_gwh_2014, generation_gwh_2015, generation_gwh_2016, generation_gwh_2017, generation_gwh_2018, generation_gwh_2019, generation_data_source, estimated_generation_gwh_2013, estimated_generation_gwh_2014, estimated_generation_gwh_2015, estimated_generation_gwh_2016, estimated_generation_gwh_2017, estimated_generation_note_2013, estimated_generation_note_2014, estimated_generation_note_2015, estimated_generation_note_2016, estimated_generation_note_2017, country, continent, unMember]\n",
       "Index: []\n",
       "\n",
       "[0 rows x 39 columns]"
      ]
     },
     "execution_count": 8,
     "metadata": {},
     "output_type": "execute_result"
    }
   ],
   "source": [
    "power_df[power_df['unMember'].isna()] # Show records with missing continents"
   ]
  },
  {
   "cell_type": "markdown",
   "metadata": {},
   "source": [
    "# Creating new features for analysis"
   ]
  },
  {
   "cell_type": "markdown",
   "metadata": {},
   "source": [
    "Creating new columns for renewable vs non-renewable energy and 'Other' primary fuel_type by continent and world categories for data visualisation. Aim is that any primary fuel type that represents less than 1% of the output for a continent will be added to an 'Other' category."
   ]
  },
  {
   "cell_type": "code",
   "execution_count": 9,
   "metadata": {},
   "outputs": [
    {
     "data": {
      "text/plain": [
       "primary_fuel\n",
       "Coal       34\n",
       "Gas        26\n",
       "Hydro      18\n",
       "Nuclear     7\n",
       "Wind        4\n",
       "Oil         4\n",
       "Solar       3\n",
       "Name: capacity_mw, dtype: int64"
      ]
     },
     "execution_count": 9,
     "metadata": {},
     "output_type": "execute_result"
    }
   ],
   "source": [
    "fuel_type_capacity_percent = power_df.groupby(by='primary_fuel')['capacity_mw'].sum().sort_values(ascending=False)/power_df['capacity_mw'].sum()*100\n",
    "main_fuel_types = fuel_type_capacity_percent[fuel_type_capacity_percent>=1]\n",
    "main_fuel_types.astype('int')"
   ]
  },
  {
   "cell_type": "code",
   "execution_count": 10,
   "metadata": {},
   "outputs": [
    {
     "data": {
      "text/plain": [
       "np.float64(98.70215486671493)"
      ]
     },
     "execution_count": 10,
     "metadata": {},
     "output_type": "execute_result"
    }
   ],
   "source": [
    "main_fuel_types.sum()  # Main primary fuels account for 99% of global capacity"
   ]
  },
  {
   "cell_type": "code",
   "execution_count": 11,
   "metadata": {},
   "outputs": [
    {
     "name": "stdout",
     "output_type": "stream",
     "text": [
      "['Hydro' 'Solar' 'Gas' 'Other' 'Oil' 'Wind' 'Nuclear' 'Coal' 'Waste'\n",
      " 'Biomass' 'Wave and Tidal' 'Petcoke' 'Geothermal' 'Storage'\n",
      " 'Cogeneration']\n"
     ]
    }
   ],
   "source": [
    "print(power_df['primary_fuel'].unique())\n",
    "renewable_energies = ['Hydro', 'Solar', 'Wind', 'Biomass', 'Wave and Tidal', 'Geothermal']\n",
    "non_renewable_energies = ['Nuclear', 'Coal', 'Gas', 'Oil', 'Petcoke',]\n",
    "other = ['Other', 'Waste', 'Cogeneration', 'Storage']\n",
    "\n",
    "conditions = [\n",
    "    power_df['primary_fuel'].isin(renewable_energies),\n",
    "    power_df['primary_fuel'].isin(non_renewable_energies),\n",
    "    power_df['primary_fuel'].isin(other)\n",
    "]\n",
    "\n",
    "# Define the categories\n",
    "choices = ['Renewable', 'Non-Renewable', 'Other']\n",
    "\n",
    "# Create new column\n",
    "power_df['renew_energy'] = np.select(conditions, choices, default='Unknown')"
   ]
  },
  {
   "cell_type": "code",
   "execution_count": 12,
   "metadata": {},
   "outputs": [],
   "source": [
    "# Creating new column called text to use as data that shows ehn we hover over points in the world map figure\n",
    "power_df['text'] = power_df['name'] + ', ' + power_df['country']"
   ]
  },
  {
   "cell_type": "markdown",
   "metadata": {},
   "source": [
    "# Creating WebApp with Dash and Plotly"
   ]
  },
  {
   "cell_type": "markdown",
   "metadata": {},
   "source": [
    "### Defining Color Maps"
   ]
  },
  {
   "cell_type": "code",
   "execution_count": 13,
   "metadata": {},
   "outputs": [],
   "source": [
    "# Defining colour maps to be reused across plots\n",
    "fuel_color_map = {\n",
    "    # Renewable Energy Sources\n",
    "    'Hydro': '#2ECC71',        # Light Green\n",
    "    'Solar': '#F1C40F',        # Yellow\n",
    "    'Wind': '#3498DB',         # Light Blue\n",
    "    'Biomass': '#27AE60',      # Green\n",
    "    'Wave and Tidal': '#D35400',  # Teal\n",
    "    'Geothermal': '#9B59B6',   # Purple\n",
    "\n",
    "    # Non-Renewable Energy Sources\n",
    "    'Nuclear': '#34495E',      # Dark Blue-Grey\n",
    "    'Coal': '#E74C3C',         # Red\n",
    "    'Gas': '#7F8C8D',          # Dark Orange\n",
    "    'Oil': '#1ABC9C',          # Darker Orange\n",
    "    'Petcoke': '#95A5A6',      # Grey\n",
    "\n",
    "    # Other Categories\n",
    "    'Other': '#BDC3C7',        # Light Grey\n",
    "    'Waste': '#E67E22',        # Dark Grey\n",
    "    'Cogeneration': '#16A085', # Dark Teal\n",
    "    'Storage': '#2980B9',      # Blue\n",
    "\n",
    "    # Category Labels (Overall)\n",
    "    'Renewable': '#2ECC71',    # Light Green\n",
    "    'Non-Renewable': '#E74C3C', # Red\n",
    "}\n"
   ]
  },
  {
   "cell_type": "code",
   "execution_count": 14,
   "metadata": {},
   "outputs": [],
   "source": [
    "\n",
    "custom_colors = [\n",
    "    \"#FF5733\",  # Red-Orange\n",
    "    \"#33FF57\",  # Green\n",
    "    \"#3357FF\",  # Blue\n",
    "    \"#F39C12\",  # Orange\n",
    "    \"#9B59B6\",  # Purple\n",
    "    \"#E74C3C\",  # Red\n",
    "    \"#1ABC9C\",  # Teal\n",
    "    \"#8E44AD\",  # Dark Purple\n",
    "    \"#3498DB\",  # Light Blue\n",
    "    \"#2ECC71\",  # Light Green\n",
    "    \"#E67E22\",  # Dark Orange\n",
    "    \"#ECF0F1\",  # Light Grey\n",
    "    \"#95A5A6\",  # Grey\n",
    "    \"#34495E\",  # Dark Blue-Grey\n",
    "    \"#16A085\"   # Dark Teal\n",
    "]"
   ]
  },
  {
   "cell_type": "markdown",
   "metadata": {},
   "source": [
    "### Defining unique plotting functions"
   ]
  },
  {
   "cell_type": "code",
   "execution_count": 15,
   "metadata": {},
   "outputs": [],
   "source": [
    "# Function for making the title card\n",
    "def drawTitle():\n",
    "    return html.Div([\n",
    "        dbc.Card(\n",
    "            dbc.CardBody([\n",
    "                html.Div([\n",
    "                    html.H1(\"Dashboard for EDA of Global Power Plants Database\"),\n",
    "                        ], style={'textAlign': 'center',  'color': 'white'}) \n",
    "            ])\n",
    "        ),\n",
    "    ])"
   ]
  },
  {
   "cell_type": "code",
   "execution_count": 16,
   "metadata": {},
   "outputs": [],
   "source": [
    "# For making the dropdown option\n",
    "def drawDropdown():\n",
    "    return html.Div([\n",
    "        dbc.Card(\n",
    "            dbc.CardBody([\n",
    "                html.Div([\n",
    "                    html.H3(\"Select Continent:\"),\n",
    "                ], style={'textAlign': 'center',  'color': 'white'}),\n",
    "                dcc.Dropdown(id='cont_dropdown',\n",
    "                        options = [{'label': continent, 'value': continent} for continent in power_df['continent'].unique()] + [{'label': 'World', 'value': 'All'}],\n",
    "                        value='Europe'), \n",
    "            ])\n",
    "        ),\n",
    "    ])"
   ]
  },
  {
   "cell_type": "code",
   "execution_count": 17,
   "metadata": {},
   "outputs": [],
   "source": [
    "# For making the table\n",
    "def drawTable():\n",
    "    return html.Div([\n",
    "        dbc.Card(\n",
    "            dbc.CardBody([\n",
    "                html.H5(\"Power Plants Table Sorted by Capacity\", style={'textAlign': 'center', 'color': 'white'}),\n",
    "                html.Br(),\n",
    "                dash_table.DataTable(\n",
    "                    id='power-plants-table',\n",
    "                    columns=[\n",
    "                        {'name': 'Country', 'id': 'country_long'},\n",
    "                        {'name': 'Name', 'id': 'name'},\n",
    "                        {'name': 'Capacity (MW)', 'id': 'capacity_mw'},\n",
    "                        {'name': 'Primary Fuel', 'id': 'primary_fuel'}\n",
    "                    ],\n",
    "                    data=[],\n",
    "                    page_size=13,\n",
    "                    style_header={\n",
    "                        'backgroundColor': '#1f1f1f',  # Dark background for header\n",
    "                        'color': 'white',              # White text for header\n",
    "                        'border': '1px solid #444'     # Border color for header\n",
    "                    },\n",
    "                    style_cell={\n",
    "                        'backgroundColor': '#333333',  # Dark background for cells\n",
    "                        'color': 'white',              # White text for cells\n",
    "                        'textAlign': 'left',           # Align text to the left\n",
    "                        'border': '1px solid #444'     # Border color for cells\n",
    "                    },\n",
    "                    style_data_conditional=[\n",
    "                        {\n",
    "                            'if': {'row_index': 'odd'},  # Alternate row styling for better readability\n",
    "                            'backgroundColor': '#2d2d2d'  # Slightly lighter dark background for odd rows\n",
    "                        }\n",
    "                    ],\n",
    "                    fill_width=True\n",
    "                )\n",
    "            ])\n",
    "        ),\n",
    "    ])"
   ]
  },
  {
   "cell_type": "code",
   "execution_count": 18,
   "metadata": {},
   "outputs": [],
   "source": [
    "# For making PieChart\n",
    "def drawPieChart():\n",
    "    return  html.Div([\n",
    "        dbc.Card(\n",
    "            dbc.CardBody([html.H5('Proportion of Total Power Plant Capacity', style={'textAlign': 'center', 'color': 'white'}),\n",
    "                          dcc.RadioItems(id='pie_radioitems',\n",
    "                        options=[{'label':' Primary Fuel', 'value':'primary_fuel'},\n",
    "                                {'label':' Renewables', 'value':'renew_energy'}],\n",
    "                        value='primary_fuel',\n",
    "                        inline=True),\n",
    "                        dcc.Graph(id='pie_chart_cap'),\n",
    "            ])\n",
    "        ),  \n",
    "    ])"
   ]
  },
  {
   "cell_type": "code",
   "execution_count": 19,
   "metadata": {},
   "outputs": [],
   "source": [
    "# For making the geo map\n",
    "map_columns=['country_long', 'name', 'capacity_mw', 'primary_fuel', 'longitude', 'latitude', 'text']\n",
    "map_df = power_df.sort_values(by='capacity_mw', ascending=False).head(500)[map_columns]\n",
    "map_fig = px.scatter_geo(\n",
    "    data_frame=map_df,\n",
    "    lat='latitude',\n",
    "    lon='longitude',\n",
    "    color='primary_fuel',\n",
    "    hover_name='text',\n",
    "    color_discrete_sequence=custom_colors,\n",
    "    size='capacity_mw',\n",
    "    opacity=0.7,\n",
    "    projection='natural earth',\n",
    ")\n",
    "\n",
    "# Update marker borders for better visibility\n",
    "map_fig.update_traces(\n",
    "    marker=dict(\n",
    "        line=dict(\n",
    "            color='black',  \n",
    "            width=0.1  \n",
    "        )\n",
    "    )\n",
    ")\n",
    "\n",
    "# Changing map appearance to darkmode\n",
    "map_fig.update_layout(\n",
    "    template='plotly_dark',\n",
    "    plot_bgcolor= 'rgba(0, 0, 0, 0)',\n",
    "    paper_bgcolor= 'rgba(0, 0, 0, 0)',\n",
    "    font=dict(color='white'),  \n",
    "    geo=dict(\n",
    "        showland=True, landcolor='#333333',  \n",
    "        showocean=True, oceancolor='#444444', \n",
    "        lakecolor='#444444',  \n",
    "    ),\n",
    "    title_font=dict(color='white'), \n",
    ")\n",
    "\n",
    "# Draw it in the card\n",
    "\n",
    "def drawMap():\n",
    "    return  html.Div([\n",
    "        dbc.Card(\n",
    "            dbc.CardBody([html.H5(\"Distribution of 500 Largest Power Plants by Capacity\", style={'textAlign': 'center',  'color': 'white'}),\n",
    "                         dcc.Graph(figure=map_fig)\n",
    "            ])\n",
    "        ),  \n",
    "    ])"
   ]
  },
  {
   "cell_type": "code",
   "execution_count": 20,
   "metadata": {},
   "outputs": [],
   "source": [
    "# Make histogram\n",
    "\n",
    "def drawHist():\n",
    "    return  html.Div([\n",
    "        dbc.Card(\n",
    "            dbc.CardBody([\n",
    "                        dcc.Graph(id='capacity_hist')\n",
    "            ])\n",
    "        ),  \n",
    "    ])\n"
   ]
  },
  {
   "cell_type": "markdown",
   "metadata": {},
   "source": [
    "### Defining the web application"
   ]
  },
  {
   "cell_type": "code",
   "execution_count": 21,
   "metadata": {},
   "outputs": [],
   "source": [
    "app = Dash(external_stylesheets=[dbc.themes.SLATE])"
   ]
  },
  {
   "cell_type": "markdown",
   "metadata": {},
   "source": [
    "### Defining app callback functions"
   ]
  },
  {
   "cell_type": "code",
   "execution_count": 30,
   "metadata": {},
   "outputs": [],
   "source": [
    "\n",
    "# Callback function for histogram\n",
    "@app.callback(Output('capacity_hist', 'figure'),\n",
    "              Input('cont_dropdown', 'value'))\n",
    "def sync_input_hist(cont_selection):\n",
    "    if cont_selection!='All':\n",
    "        continent_filtered = power_df.loc[power_df['continent'] == cont_selection].copy()\n",
    "    else:\n",
    "        continent_filtered = power_df\n",
    "    continent_filtered['log_capacity_mw'] = np.log10(continent_filtered.loc[:,'capacity_mw'])\n",
    "    fig = px.histogram(continent_filtered,  \n",
    "                       x='log_capacity_mw',\n",
    "                       hover_name='text',\n",
    "                       color='primary_fuel',\n",
    "                       log_y=True,\n",
    "                       nbins=100)\n",
    "    \n",
    "    tick_values = np.log10(np.array([1, 10, 100, 500, 1000, 5000, 10000]))\n",
    "    tick_texts = ['1', '10', '100', '500', '1K', '5K', '10K']\n",
    "\n",
    "    fig.update_layout(\n",
    "        template='plotly_dark',\n",
    "        plot_bgcolor= 'rgba(0, 0, 0, 0)',\n",
    "        paper_bgcolor= 'rgba(0, 0, 0, 0)',   # Background color for the plot area\n",
    "        font=dict(color='white'),  # Font color for axes and labels\n",
    "        title_font=dict(color='white'),  # Title font color\n",
    "        xaxis=dict(\n",
    "            title='Capacity (MW)', showgrid=True,\n",
    "            gridcolor='rgba(255, 255, 255, 0.1)', color='white',\n",
    "            tickmode='array', tickvals=tick_values, ticktext=tick_texts,\n",
    "            range=[0, continent_filtered['log_capacity_mw'].max()+1]  # This sets the range from 10^0 to 10^5\n",
    "                            ),\n",
    "        yaxis=dict(\n",
    "            title='Count', showgrid=True, gridcolor='rgba(255, 255, 255, 0.1)', color='white'\n",
    "        ),\n",
    "        bargap=0.1\n",
    "    )\n",
    "\n",
    "    fig.update_layout(barmode='overlay')\n",
    "    return fig"
   ]
  },
  {
   "cell_type": "code",
   "execution_count": 23,
   "metadata": {},
   "outputs": [],
   "source": [
    "# Callback function for Pie Chart\n",
    "@app.callback(Output('pie_chart_cap', 'figure'),\n",
    "              Input('cont_dropdown', 'value'),\n",
    "              Input('pie_radioitems', 'value'))\n",
    "def sync_input_pie_chart_cap(cont_selection, fuel_or_renew):\n",
    "    if cont_selection!='All':\n",
    "        continent_filtered = power_df.loc[power_df['continent'] == cont_selection].copy()\n",
    "    else:\n",
    "        continent_filtered = power_df\n",
    "    grouped_by_fuel = continent_filtered.groupby(fuel_or_renew)['capacity_mw'].sum().reset_index()\n",
    "    fig = px.pie(grouped_by_fuel, \n",
    "                 values='capacity_mw',\n",
    "                 names=fuel_or_renew,\n",
    "                 color=fuel_or_renew,\n",
    "                 color_discrete_map=fuel_color_map)\n",
    "    fig.update_layout(\n",
    "        template='plotly_dark',\n",
    "        plot_bgcolor= 'rgba(0, 0, 0, 0)',\n",
    "        paper_bgcolor= 'rgba(0, 0, 0, 0)',  # Background color for the entire plot\n",
    "        font=dict(color='white'),  # Font color for pie chart labels\n",
    "        title_font=dict(color='white'),  # Title font color\n",
    "    )\n",
    "\n",
    "    return fig"
   ]
  },
  {
   "cell_type": "code",
   "execution_count": 24,
   "metadata": {},
   "outputs": [],
   "source": [
    "# Callback function for Table\n",
    "\n",
    "@app.callback(\n",
    "    Output('power-plants-table', 'data'),\n",
    "    [Input('cont_dropdown', 'value')]\n",
    ")\n",
    "def update_table(cont_selection):\n",
    "    if cont_selection != 'All':\n",
    "        filtered_data = power_df[power_df['continent'] == cont_selection]\n",
    "    else:\n",
    "        filtered_data = power_df\n",
    "    \n",
    "    sorted_data = filtered_data[['country_long', 'name', 'capacity_mw', 'primary_fuel']].sort_values('capacity_mw', ascending=False)\n",
    "\n",
    "    return sorted_data.to_dict('records')"
   ]
  },
  {
   "cell_type": "markdown",
   "metadata": {},
   "source": [
    "### App layout and loader"
   ]
  },
  {
   "cell_type": "code",
   "execution_count": 31,
   "metadata": {},
   "outputs": [
    {
     "name": "stdout",
     "output_type": "stream",
     "text": [
      "Dash app running on http://127.0.0.1:8050/\n"
     ]
    }
   ],
   "source": [
    "\n",
    " # Actual app layout\n",
    "app.layout = html.Div([\n",
    "    dbc.Card(\n",
    "        dbc.CardBody([\n",
    "            dbc.Row([\n",
    "                dbc.Col(drawTitle(), width=12),\n",
    "            ], align='center'),\n",
    "            dbc.Row([\n",
    "                dbc.Col(drawDropdown(), width=4),\n",
    "            ], justify='center', align='center'),\n",
    "            dbc.Row([\n",
    "                dbc.Col([\n",
    "                    drawHist() \n",
    "                ], width=6),\n",
    "                dbc.Col([\n",
    "                    drawMap()\n",
    "                ], width=6),\n",
    "            ], align='center'), \n",
    "            dbc.Row([\n",
    "                dbc.Col([\n",
    "                    drawPieChart()\n",
    "                ], width=6),\n",
    "                dbc.Col([\n",
    "                    drawTable()\n",
    "                ], width=6),\n",
    "            ], align='center'),      \n",
    "        ]), color = 'dark'\n",
    "    )\n",
    "], style={'height': '100vh', 'overflow': 'auto'})\n",
    "\n",
    "# Run the dashboard\n",
    "app.run(jupyter_mode=\"external\")\n",
    "#app.run_server(debug=True, use_reloader=False)  # Turn off reloader if inside Jupyter\n"
   ]
  }
 ],
 "metadata": {
  "kernelspec": {
   "display_name": ".DataSc",
   "language": "python",
   "name": "python3"
  },
  "language_info": {
   "codemirror_mode": {
    "name": "ipython",
    "version": 3
   },
   "file_extension": ".py",
   "mimetype": "text/x-python",
   "name": "python",
   "nbconvert_exporter": "python",
   "pygments_lexer": "ipython3",
   "version": "3.12.5"
  }
 },
 "nbformat": 4,
 "nbformat_minor": 2
}
