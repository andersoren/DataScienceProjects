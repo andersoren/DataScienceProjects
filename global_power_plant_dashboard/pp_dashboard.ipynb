{
 "cells": [
  {
   "cell_type": "code",
   "execution_count": null,
   "metadata": {},
   "outputs": [],
   "source": [
    "import plotly.express as px\n",
    "import plotly.graph_objects as go\n",
    "import numpy as np\n",
    "import pandas as pd\n",
    "import seaborn as sns\n",
    "import matplotlib.pyplot as plt\n",
    "from dash import Dash, html, dash_table, dcc, Output, Input\n",
    "import dash_bootstrap_components as dbc\n"
   ]
  },
  {
   "cell_type": "markdown",
   "metadata": {},
   "source": [
    "# Importing and cleaning data"
   ]
  },
  {
   "cell_type": "code",
   "execution_count": 2,
   "metadata": {},
   "outputs": [],
   "source": [
    "pp_db_raw = pd.read_csv(\"global_power_plant_database.csv\", encoding='utf-8', dtype={'other_fuel3': str})\n",
    "cont = pd.read_csv(\"list-of-countries-by-continent-2024.csv\", encoding='utf-8')"
   ]
  },
  {
   "cell_type": "markdown",
   "metadata": {},
   "source": [
    "Check columns and merge on country_long and country column"
   ]
  },
  {
   "cell_type": "code",
   "execution_count": null,
   "metadata": {},
   "outputs": [],
   "source": [
    "\n",
    "print(\"Before merge\", pp_db_raw.shape)\n",
    "print(\"Power Plant DB columns: \", pp_db_raw.columns)\n",
    "print(\"Country & Continent CSV file columns: \", cont.columns)\n",
    "pp_db = pp_db_raw.merge(cont, how='left', left_on='country_long', right_on='country', suffixes=('_short', ''))\n",
    "pp_db.shape # 3 columns added and same number of rows due to left join\n"
   ]
  },
  {
   "cell_type": "code",
   "execution_count": null,
   "metadata": {},
   "outputs": [],
   "source": [
    "pp_db.describe()"
   ]
  },
  {
   "cell_type": "markdown",
   "metadata": {},
   "source": [
    "Check records missing country field to see if merge was successful"
   ]
  },
  {
   "cell_type": "code",
   "execution_count": null,
   "metadata": {},
   "outputs": [],
   "source": [
    "\n",
    "print(pp_db[['country_short', 'country_long', 'country', 'continent']].isna().sum())\n",
    "# country column in merged table has 73 missing values, we check which records these correspond to in raw table\n",
    "print(pp_db_raw[pp_db['country'].isna()]['country_long'].unique())\n",
    "# Note that 2 power plants are located in Antarctica which we add to Oceania (New Zealand)\n",
    "print(\"Antarctica Power Plants: \", pp_db.loc[pp_db['country_long']=='Antarctica', :'primary_fuel'])"
   ]
  },
  {
   "cell_type": "markdown",
   "metadata": {},
   "source": [
    "\n",
    "Comparing output to list-of-countries-by-continent-2024.csv , we make the following changes manually:\n",
    "\n",
    "Swaziland --> Eswatini, Brunei Darussalam --> Brunei\n",
    "\n",
    "Congo --> Republic of the Congo, Cote DIvoire --> Ivory Coast\n",
    "\n",
    "Democratic Republic of the Congo --> DR Congo, Macedonia --> North Macedonia\n",
    "\n",
    "Syrian Arab Republic --> Syria\n",
    "\n",
    "We also  make these changes to the raw data in the continent CSV file:\n",
    "\n",
    "Add Kosovo, United States --> United States of America\n",
    "\n",
    "Antarctica --> New Zealand\n"
   ]
  },
  {
   "cell_type": "code",
   "execution_count": null,
   "metadata": {},
   "outputs": [],
   "source": [
    "replacement_dict={\n",
    "    'Swaziland': 'Eswatini',\n",
    "    'Brunei Darussalam': 'Brunei',\n",
    "    'Congo': 'Republic of the Congo',\n",
    "    'Cote DIvoire': 'Ivory Coast',\n",
    "    'Democratic Republic of the Congo': 'DR Congo',\n",
    "    'Macedonia': 'North Macedonia',\n",
    "    'Syrian Arab Republic': 'Syria',\n",
    "    'Antarctica': 'New Zealand'\n",
    "}\n",
    "pp_db_raw['country_long'] = pp_db_raw['country_long'].replace(replacement_dict)\n",
    "\n",
    "pp_db = pp_db_raw.merge(cont, how='left', left_on='country_long', right_on='country', suffixes=('_short', ''))\n",
    "\n",
    "print(pp_db[['country_short', 'country_long', 'country', 'continent']].isna().sum())"
   ]
  },
  {
   "cell_type": "markdown",
   "metadata": {},
   "source": [
    "# Creating new features for analysis"
   ]
  },
  {
   "cell_type": "markdown",
   "metadata": {},
   "source": [
    "Creating new columns for renewable vs non-renewable energy and 'Other' primary fuel_type by continent and world categories for data visualisation. Aim is that any primary fuel type that represents less than 1% of the output for a continent will be added to an 'Other' category."
   ]
  },
  {
   "cell_type": "code",
   "execution_count": null,
   "metadata": {},
   "outputs": [],
   "source": [
    "print(pp_db['primary_fuel'].unique())\n",
    "renewable_energies = ['Hydro', 'Solar', 'Wind', 'Biomass', 'Wave and Tidal', 'Geothermal']\n",
    "non_renewable_energies = ['Nuclear', 'Coal', 'Gas', 'Oil', 'Petcoke',]\n",
    "other = ['Other', 'Waste', 'Cogeneration', 'Storage']\n",
    "\n",
    "conditions = [\n",
    "    pp_db['primary_fuel'].isin(renewable_energies),\n",
    "    pp_db['primary_fuel'].isin(non_renewable_energies),\n",
    "    pp_db['primary_fuel'].isin(other)\n",
    "]\n",
    "\n",
    "# Define the categories\n",
    "choices = ['Renewable', 'Non-Renewable', 'Other']\n",
    "\n",
    "# Create new column\n",
    "pp_db['renew_energy'] = np.select(conditions, choices, default='Unknown')"
   ]
  },
  {
   "cell_type": "code",
   "execution_count": 8,
   "metadata": {},
   "outputs": [],
   "source": [
    "# Creating new column called text to use as data that shows ehn we hover over points in the world map figure\n",
    "pp_db['text'] = pp_db['name'] + ', ' + pp_db['country']"
   ]
  },
  {
   "cell_type": "markdown",
   "metadata": {},
   "source": [
    "# Creating WebApp with Dash and Plotly"
   ]
  },
  {
   "cell_type": "markdown",
   "metadata": {},
   "source": [
    "### Defining Color Maps"
   ]
  },
  {
   "cell_type": "code",
   "execution_count": 9,
   "metadata": {},
   "outputs": [],
   "source": [
    "# Defining colour maps to be reused across plots\n",
    "fuel_color_map = {\n",
    "    # Renewable Energy Sources\n",
    "    'Hydro': '#2ECC71',        # Light Green\n",
    "    'Solar': '#F1C40F',        # Yellow\n",
    "    'Wind': '#3498DB',         # Light Blue\n",
    "    'Biomass': '#27AE60',      # Green\n",
    "    'Wave and Tidal': '#D35400',  # Teal\n",
    "    'Geothermal': '#9B59B6',   # Purple\n",
    "\n",
    "    # Non-Renewable Energy Sources\n",
    "    'Nuclear': '#34495E',      # Dark Blue-Grey\n",
    "    'Coal': '#E74C3C',         # Red\n",
    "    'Gas': '#7F8C8D',          # Dark Orange\n",
    "    'Oil': '#1ABC9C',          # Darker Orange\n",
    "    'Petcoke': '#95A5A6',      # Grey\n",
    "\n",
    "    # Other Categories\n",
    "    'Other': '#BDC3C7',        # Light Grey\n",
    "    'Waste': '#E67E22',        # Dark Grey\n",
    "    'Cogeneration': '#16A085', # Dark Teal\n",
    "    'Storage': '#2980B9',      # Blue\n",
    "\n",
    "    # Category Labels (Overall)\n",
    "    'Renewable': '#2ECC71',    # Light Green\n",
    "    'Non-Renewable': '#E74C3C', # Red\n",
    "}\n"
   ]
  },
  {
   "cell_type": "code",
   "execution_count": 10,
   "metadata": {},
   "outputs": [],
   "source": [
    "\n",
    "custom_colors = [\n",
    "    \"#FF5733\",  # Red-Orange\n",
    "    \"#33FF57\",  # Green\n",
    "    \"#3357FF\",  # Blue\n",
    "    \"#F39C12\",  # Orange\n",
    "    \"#9B59B6\",  # Purple\n",
    "    \"#E74C3C\",  # Red\n",
    "    \"#1ABC9C\",  # Teal\n",
    "    \"#8E44AD\",  # Dark Purple\n",
    "    \"#3498DB\",  # Light Blue\n",
    "    \"#2ECC71\",  # Light Green\n",
    "    \"#E67E22\",  # Dark Orange\n",
    "    \"#ECF0F1\",  # Light Grey\n",
    "    \"#95A5A6\",  # Grey\n",
    "    \"#34495E\",  # Dark Blue-Grey\n",
    "    \"#16A085\"   # Dark Teal\n",
    "]"
   ]
  },
  {
   "cell_type": "markdown",
   "metadata": {},
   "source": [
    "### Defining unique plotting functions"
   ]
  },
  {
   "cell_type": "code",
   "execution_count": 11,
   "metadata": {},
   "outputs": [],
   "source": [
    "# Function for making the title card\n",
    "def drawTitle():\n",
    "    return html.Div([\n",
    "        dbc.Card(\n",
    "            dbc.CardBody([\n",
    "                html.Div([\n",
    "                    html.H1(\"Dashboard for EDA of Global Power Plants Database\"),\n",
    "                        ], style={'textAlign': 'center',  'color': 'white'}) \n",
    "            ])\n",
    "        ),\n",
    "    ])"
   ]
  },
  {
   "cell_type": "code",
   "execution_count": 12,
   "metadata": {},
   "outputs": [],
   "source": [
    "# For making the dropdown option\n",
    "def drawDropdown():\n",
    "    return html.Div([\n",
    "        dbc.Card(\n",
    "            dbc.CardBody([\n",
    "                html.Div([\n",
    "                    html.H3(\"Select Continent:\"),\n",
    "                ], style={'textAlign': 'center',  'color': 'white'}),\n",
    "                dcc.Dropdown(id='cont_dropdown',\n",
    "                        options = [{'label': continent, 'value': continent} for continent in pp_db['continent'].unique()] + [{'label': 'World', 'value': 'All'}],\n",
    "                        value='Europe'), \n",
    "            ])\n",
    "        ),\n",
    "    ])"
   ]
  },
  {
   "cell_type": "code",
   "execution_count": 13,
   "metadata": {},
   "outputs": [],
   "source": [
    "# For making the table\n",
    "def drawTable():\n",
    "    return html.Div([\n",
    "        dbc.Card(\n",
    "            dbc.CardBody([\n",
    "                html.H5(\"Power Plants Table Sorted by Capacity\", style={'textAlign': 'center', 'color': 'white'}),\n",
    "                html.Br(),\n",
    "                dash_table.DataTable(\n",
    "                    id='power-plants-table',\n",
    "                    columns=[\n",
    "                        {'name': 'Country', 'id': 'country_long'},\n",
    "                        {'name': 'Name', 'id': 'name'},\n",
    "                        {'name': 'Capacity (MW)', 'id': 'capacity_mw'},\n",
    "                        {'name': 'Primary Fuel', 'id': 'primary_fuel'}\n",
    "                    ],\n",
    "                    data=[],\n",
    "                    page_size=13,\n",
    "                    style_header={\n",
    "                        'backgroundColor': '#1f1f1f',  # Dark background for header\n",
    "                        'color': 'white',              # White text for header\n",
    "                        'border': '1px solid #444'     # Border color for header\n",
    "                    },\n",
    "                    style_cell={\n",
    "                        'backgroundColor': '#333333',  # Dark background for cells\n",
    "                        'color': 'white',              # White text for cells\n",
    "                        'textAlign': 'left',           # Align text to the left\n",
    "                        'border': '1px solid #444'     # Border color for cells\n",
    "                    },\n",
    "                    style_data_conditional=[\n",
    "                        {\n",
    "                            'if': {'row_index': 'odd'},  # Alternate row styling for better readability\n",
    "                            'backgroundColor': '#2d2d2d'  # Slightly lighter dark background for odd rows\n",
    "                        }\n",
    "                    ],\n",
    "                    fill_width=True\n",
    "                )\n",
    "            ])\n",
    "        ),\n",
    "    ])"
   ]
  },
  {
   "cell_type": "code",
   "execution_count": 14,
   "metadata": {},
   "outputs": [],
   "source": [
    "# For making PieChart\n",
    "def drawPieChart():\n",
    "    return  html.Div([\n",
    "        dbc.Card(\n",
    "            dbc.CardBody([html.H5('Proportion of Total Power Plant Capacity', style={'textAlign': 'center', 'color': 'white'}),\n",
    "                          dcc.RadioItems(id='pie_radioitems',\n",
    "                        options=[{'label':' Primary Fuel', 'value':'primary_fuel'},\n",
    "                                {'label':' Renewables', 'value':'renew_energy'}],\n",
    "                        value='primary_fuel',\n",
    "                        inline=True),\n",
    "                        dcc.Graph(id='pie_chart_cap'),\n",
    "            ])\n",
    "        ),  \n",
    "    ])"
   ]
  },
  {
   "cell_type": "code",
   "execution_count": 15,
   "metadata": {},
   "outputs": [],
   "source": [
    "# For making the geo map\n",
    "map_columns=['country_long', 'name', 'capacity_mw', 'primary_fuel', 'longitude', 'latitude', 'text']\n",
    "map_df = pp_db.sort_values(by='capacity_mw', ascending=False).head(500)[map_columns]\n",
    "map_fig = px.scatter_geo(\n",
    "    data_frame=map_df,\n",
    "    lat='latitude',\n",
    "    lon='longitude',\n",
    "    color='primary_fuel',\n",
    "    hover_name='text',\n",
    "    color_discrete_sequence=custom_colors,\n",
    "    size='capacity_mw',\n",
    "    opacity=0.7,\n",
    "    projection='natural earth',\n",
    ")\n",
    "\n",
    "# Update marker borders for better visibility\n",
    "map_fig.update_traces(\n",
    "    marker=dict(\n",
    "        line=dict(\n",
    "            color='black',  \n",
    "            width=0.1  \n",
    "        )\n",
    "    )\n",
    ")\n",
    "\n",
    "# Changing map appearance to darkmode\n",
    "map_fig.update_layout(\n",
    "    template='plotly_dark',\n",
    "    plot_bgcolor= 'rgba(0, 0, 0, 0)',\n",
    "    paper_bgcolor= 'rgba(0, 0, 0, 0)',\n",
    "    font=dict(color='white'),  \n",
    "    geo=dict(\n",
    "        showland=True, landcolor='#333333',  \n",
    "        showocean=True, oceancolor='#444444', \n",
    "        lakecolor='#444444',  \n",
    "    ),\n",
    "    title_font=dict(color='white'), \n",
    ")\n",
    "\n",
    "# Draw it in the card\n",
    "\n",
    "def drawMap():\n",
    "    return  html.Div([\n",
    "        dbc.Card(\n",
    "            dbc.CardBody([html.H5(\"Distribution of 500 Largest Power Plants by Capacity\", style={'textAlign': 'center',  'color': 'white'}),\n",
    "                         dcc.Graph(figure=map_fig)\n",
    "            ])\n",
    "        ),  \n",
    "    ])"
   ]
  },
  {
   "cell_type": "code",
   "execution_count": 16,
   "metadata": {},
   "outputs": [],
   "source": [
    "# Make histogram\n",
    "\n",
    "def drawHist():\n",
    "    return  html.Div([\n",
    "        dbc.Card(\n",
    "            dbc.CardBody([\n",
    "                        dcc.Graph(id='capacity_hist')\n",
    "            ])\n",
    "        ),  \n",
    "    ])\n"
   ]
  },
  {
   "cell_type": "markdown",
   "metadata": {},
   "source": [
    "### Defining the web application"
   ]
  },
  {
   "cell_type": "code",
   "execution_count": 17,
   "metadata": {},
   "outputs": [],
   "source": [
    "app = Dash(external_stylesheets=[dbc.themes.SLATE])"
   ]
  },
  {
   "cell_type": "markdown",
   "metadata": {},
   "source": [
    "### Defining app callback functions"
   ]
  },
  {
   "cell_type": "code",
   "execution_count": 18,
   "metadata": {},
   "outputs": [],
   "source": [
    "\n",
    "# Callback function for histogram\n",
    "@app.callback(Output('capacity_hist', 'figure'),\n",
    "              Input('cont_dropdown', 'value'))\n",
    "def sync_input_hist(cont_selection):\n",
    "    if cont_selection!='All':\n",
    "        continent_filtered = pp_db.loc[pp_db['continent'] == cont_selection].copy()\n",
    "    else:\n",
    "        continent_filtered = pp_db\n",
    "    continent_filtered['log_capacity_mw'] = np.log10(continent_filtered.loc[:,'capacity_mw'])\n",
    "    fig = px.histogram(continent_filtered,  \n",
    "                       x='log_capacity_mw',\n",
    "                       hover_name='text',\n",
    "                       color='primary_fuel',\n",
    "                       log_y=True,\n",
    "                       nbins=100)\n",
    "    \n",
    "    tick_values = np.log10(np.array([1, 10, 100, 500, 1000, 5000, 10000]))\n",
    "    tick_texts = ['1', '10', '100', '500', '1K', '5K', '10K']\n",
    "\n",
    "    fig.update_layout(\n",
    "        template='plotly_dark',\n",
    "        plot_bgcolor= 'rgba(0, 0, 0, 0)',\n",
    "        paper_bgcolor= 'rgba(0, 0, 0, 0)',   # Background color for the plot area\n",
    "        font=dict(color='white'),  # Font color for axes and labels\n",
    "        title_font=dict(color='white'),  # Title font color\n",
    "        xaxis=dict(\n",
    "            title='Capacity (MW)', showgrid=True,\n",
    "            gridcolor='rgba(255, 255, 255, 0.1)', color='white',\n",
    "            tickmode='array', tickvals=tick_values, ticktext=tick_texts,\n",
    "            range=[0, continent_filtered['log_capacity_mw'].max()+1]  # This sets the range from 10^0 to 10^5\n",
    "                            ),\n",
    "        yaxis=dict(\n",
    "            title='Count', showgrid=True, gridcolor='rgba(255, 255, 255, 0.1)', color='white'\n",
    "        ),\n",
    "        bargap=0.1\n",
    "    )\n",
    "\n",
    "    fig.update_layout(barmode='overlay')\n",
    "    return fig"
   ]
  },
  {
   "cell_type": "code",
   "execution_count": 19,
   "metadata": {},
   "outputs": [],
   "source": [
    "# Callback function for Pie Chart\n",
    "@app.callback(Output('pie_chart_cap', 'figure'),\n",
    "              Input('cont_dropdown', 'value'),\n",
    "              Input('pie_radioitems', 'value'))\n",
    "def sync_input_pie_chart_cap(cont_selection, fuel_or_renew):\n",
    "    if cont_selection!='All':\n",
    "        continent_filtered = pp_db.loc[pp_db['continent'] == cont_selection].copy()\n",
    "    else:\n",
    "        continent_filtered = pp_db\n",
    "    grouped_by_fuel = continent_filtered.groupby(fuel_or_renew)['capacity_mw'].sum().reset_index()\n",
    "    fig = px.pie(grouped_by_fuel, \n",
    "                 values='capacity_mw',\n",
    "                 names=fuel_or_renew,\n",
    "                 color=fuel_or_renew,\n",
    "                 color_discrete_map=fuel_color_map)\n",
    "    fig.update_layout(\n",
    "        template='plotly_dark',\n",
    "        plot_bgcolor= 'rgba(0, 0, 0, 0)',\n",
    "        paper_bgcolor= 'rgba(0, 0, 0, 0)',  # Background color for the entire plot\n",
    "        font=dict(color='white'),  # Font color for pie chart labels\n",
    "        title_font=dict(color='white'),  # Title font color\n",
    "    )\n",
    "\n",
    "    return fig"
   ]
  },
  {
   "cell_type": "code",
   "execution_count": 20,
   "metadata": {},
   "outputs": [],
   "source": [
    "# Callback function for Table\n",
    "\n",
    "@app.callback(\n",
    "    Output('power-plants-table', 'data'),\n",
    "    [Input('cont_dropdown', 'value')]\n",
    ")\n",
    "def update_table(cont_selection):\n",
    "    if cont_selection != 'All':\n",
    "        filtered_data = pp_db[pp_db['continent'] == cont_selection]\n",
    "    else:\n",
    "        filtered_data = pp_db\n",
    "    \n",
    "    sorted_data = filtered_data[['country_long', 'name', 'capacity_mw', 'primary_fuel']].sort_values('capacity_mw', ascending=False)\n",
    "\n",
    "    return sorted_data.to_dict('records')"
   ]
  },
  {
   "cell_type": "markdown",
   "metadata": {},
   "source": [
    "### App layout and loader"
   ]
  },
  {
   "cell_type": "code",
   "execution_count": null,
   "metadata": {},
   "outputs": [],
   "source": [
    "\n",
    " # Actual app layout\n",
    "app.layout = html.Div([\n",
    "    dbc.Card(\n",
    "        dbc.CardBody([\n",
    "            dbc.Row([\n",
    "                dbc.Col(drawTitle(), width=12),\n",
    "            ], align='center'),\n",
    "            dbc.Row([\n",
    "                dbc.Col(drawDropdown(), width=4),\n",
    "            ], justify='center', align='center'),\n",
    "            dbc.Row([\n",
    "                dbc.Col([\n",
    "                    drawHist() \n",
    "                ], width=6),\n",
    "                dbc.Col([\n",
    "                    drawMap()\n",
    "                ], width=6),\n",
    "            ], align='center'), \n",
    "            dbc.Row([\n",
    "                dbc.Col([\n",
    "                    drawPieChart()\n",
    "                ], width=6),\n",
    "                dbc.Col([\n",
    "                    drawTable()\n",
    "                ], width=6),\n",
    "            ], align='center'),      \n",
    "        ]), color = 'dark'\n",
    "    )\n",
    "], style={'height': '100vh', 'overflow': 'auto'})\n",
    "\n",
    "# Run the dashboard\n",
    "app.run(jupyter_mode=\"external\")\n",
    "#app.run_server(debug=True, use_reloader=False)  # Turn off reloader if inside Jupyter\n"
   ]
  }
 ],
 "metadata": {
  "kernelspec": {
   "display_name": ".DataSc",
   "language": "python",
   "name": "python3"
  },
  "language_info": {
   "codemirror_mode": {
    "name": "ipython",
    "version": 3
   },
   "file_extension": ".py",
   "mimetype": "text/x-python",
   "name": "python",
   "nbconvert_exporter": "python",
   "pygments_lexer": "ipython3",
   "version": "3.12.5"
  }
 },
 "nbformat": 4,
 "nbformat_minor": 2
}
